{
 "cells": [
  {
   "cell_type": "markdown",
   "metadata": {},
   "source": [
    "<h1> Chapter 1 - Session 1 \n",
    "<h1> Fundamentals of Python\n",
    "<h2> Objectives </h2>\n",
    "<p>Learn how to write simple code to do simple calculations"
   ]
  },
  {
   "cell_type": "code",
   "execution_count": 1,
   "metadata": {},
   "outputs": [
    {
     "name": "stdout",
     "output_type": "stream",
     "text": [
      "Your name is:  Gustavo\n"
     ]
    }
   ],
   "source": [
    "name = input('What is your name: ')\n",
    "print (\"Your name is: \", name)"
   ]
  },
  {
   "cell_type": "code",
   "execution_count": 6,
   "metadata": {},
   "outputs": [
    {
     "name": "stdout",
     "output_type": "stream",
     "text": [
      "O resultado é:  1772789.0\n"
     ]
    }
   ],
   "source": [
    "x = float(input('Valor de X: '))\n",
    "print('O resultado é: ', 2*x**5+5*x**4+4*x**2+14)"
   ]
  }
 ],
 "metadata": {
  "kernelspec": {
   "display_name": "Python 3",
   "language": "python",
   "name": "python3"
  },
  "language_info": {
   "codemirror_mode": {
    "name": "ipython",
    "version": 3
   },
   "file_extension": ".py",
   "mimetype": "text/x-python",
   "name": "python",
   "nbconvert_exporter": "python",
   "pygments_lexer": "ipython3",
   "version": "3.12.0"
  }
 },
 "nbformat": 4,
 "nbformat_minor": 2
}
